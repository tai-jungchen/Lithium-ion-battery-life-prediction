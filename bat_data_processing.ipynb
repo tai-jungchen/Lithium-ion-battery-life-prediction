{
 "cells": [
  {
   "cell_type": "markdown",
   "id": "d39a20ab",
   "metadata": {},
   "source": [
    "# bat_data_processing"
   ]
  },
  {
   "cell_type": "markdown",
   "id": "0932d73d",
   "metadata": {},
   "source": [
    "This ipynb performs the data processing for the battery data. The pkl files was read to get the raw data. Features based on voltage, capacity, and temperature are constructed for each cycle per cell and stores to a csv file."
   ]
  },
  {
   "cell_type": "markdown",
   "id": "6f82a06b",
   "metadata": {},
   "source": [
    "## Import"
   ]
  },
  {
   "cell_type": "code",
   "execution_count": 1,
   "id": "d80bf0d1",
   "metadata": {},
   "outputs": [],
   "source": [
    "import numpy as np\n",
    "import pandas as pd\n",
    "import pickle\n",
    "import matplotlib.pyplot as plt\n",
    "from scipy.stats import skew, kurtosis\n",
    "from scipy.optimize import curve_fit\n",
    "from tqdm import tqdm"
   ]
  },
  {
   "cell_type": "markdown",
   "id": "575a0b41",
   "metadata": {},
   "source": [
    "## Read data"
   ]
  },
  {
   "cell_type": "markdown",
   "id": "4e9f213e",
   "metadata": {},
   "source": [
    "Batch 1"
   ]
  },
  {
   "cell_type": "code",
   "execution_count": 2,
   "id": "cc06741e",
   "metadata": {},
   "outputs": [],
   "source": [
    "batch1 = pickle.load(open(r'pickles/batch1.pkl', 'rb'))\n",
    "#remove batteries that do not reach 80% capacity\n",
    "del batch1['b1c8']\n",
    "del batch1['b1c10']\n",
    "del batch1['b1c12']\n",
    "del batch1['b1c13']\n",
    "del batch1['b1c22']"
   ]
  },
  {
   "cell_type": "markdown",
   "id": "5fa027e7",
   "metadata": {},
   "source": [
    "Batch 2"
   ]
  },
  {
   "cell_type": "code",
   "execution_count": 3,
   "id": "19c30f63",
   "metadata": {},
   "outputs": [],
   "source": [
    "batch2 = pickle.load(open(r'pickles/batch2.pkl','rb'))\n",
    "# There are four cells from batch1 that carried into batch2, we'll remove the data from batch2\n",
    "# and put it with the correct cell from batch1\n",
    "batch2_keys = ['b2c7', 'b2c8', 'b2c9', 'b2c15', 'b2c16']\n",
    "batch1_keys = ['b1c0', 'b1c1', 'b1c2', 'b1c3', 'b1c4']\n",
    "add_len = [662, 981, 1060, 208, 482]"
   ]
  },
  {
   "cell_type": "code",
   "execution_count": 4,
   "id": "d90f2137",
   "metadata": {},
   "outputs": [],
   "source": [
    "for i, bk in enumerate(batch1_keys):\n",
    "    batch1[bk]['cycle_life'] = batch1[bk]['cycle_life'] + add_len[i]\n",
    "    for j in batch1[bk]['summary'].keys():\n",
    "        if j == 'cycle':\n",
    "            batch1[bk]['summary'][j] = np.hstack((batch1[bk]['summary'][j], batch2[batch2_keys[i]]['summary'][j] + len(batch1[bk]['summary'][j])))\n",
    "        else:\n",
    "            batch1[bk]['summary'][j] = np.hstack((batch1[bk]['summary'][j], batch2[batch2_keys[i]]['summary'][j]))\n",
    "    last_cycle = len(batch1[bk]['cycles'].keys())\n",
    "    for j, jk in enumerate(batch2[batch2_keys[i]]['cycles'].keys()):\n",
    "        batch1[bk]['cycles'][str(last_cycle + j)] = batch2[batch2_keys[i]]['cycles'][jk]\n",
    "del batch2['b2c7']\n",
    "del batch2['b2c8']\n",
    "del batch2['b2c9']\n",
    "del batch2['b2c15']\n",
    "del batch2['b2c16']"
   ]
  },
  {
   "cell_type": "markdown",
   "id": "ca6823c0",
   "metadata": {},
   "source": [
    "Batch 3"
   ]
  },
  {
   "cell_type": "code",
   "execution_count": 5,
   "id": "b3593408",
   "metadata": {},
   "outputs": [],
   "source": [
    "batch3 = pickle.load(open(r'pickles/batch3.pkl','rb'))\n",
    "# remove noisy channels from batch3\n",
    "del batch3['b3c37']\n",
    "del batch3['b3c2']\n",
    "del batch3['b3c23']\n",
    "del batch3['b3c32']\n",
    "del batch3['b3c42']\n",
    "del batch3['b3c43']"
   ]
  },
  {
   "cell_type": "markdown",
   "id": "d315a9a7",
   "metadata": {},
   "source": [
    "Check"
   ]
  },
  {
   "cell_type": "code",
   "execution_count": 6,
   "id": "b5cabf1b",
   "metadata": {},
   "outputs": [
    {
     "name": "stdout",
     "output_type": "stream",
     "text": [
      "Batch 1: 41 + Batch 2: 43 + Batch 3: 40\n",
      "Total number of cells: 124\n"
     ]
    }
   ],
   "source": [
    "numBat1 = len(batch1.keys())\n",
    "numBat2 = len(batch2.keys())\n",
    "numBat3 = len(batch3.keys())\n",
    "numBat = numBat1 + numBat2 + numBat3\n",
    "print(f\"Batch 1: {numBat1} + Batch 2: {numBat2} + Batch 3: {numBat3}\")\n",
    "print(f\"Total number of cells: {numBat}\")"
   ]
  },
  {
   "cell_type": "code",
   "execution_count": 7,
   "id": "901e7a70",
   "metadata": {},
   "outputs": [],
   "source": [
    "bat_dict = {**batch1, **batch2, **batch3}"
   ]
  },
  {
   "cell_type": "code",
   "execution_count": 8,
   "id": "cfbab2eb",
   "metadata": {},
   "outputs": [],
   "source": [
    "# Delete batch1, batch2, batch3 to free up memory\n",
    "del batch1\n",
    "del batch2\n",
    "del batch3"
   ]
  },
  {
   "cell_type": "markdown",
   "id": "e88e32cb",
   "metadata": {},
   "source": [
    "## Data Exploration"
   ]
  },
  {
   "cell_type": "markdown",
   "id": "aae142c9",
   "metadata": {},
   "source": [
    "### batch level"
   ]
  },
  {
   "cell_type": "code",
   "execution_count": 9,
   "id": "8fc08037",
   "metadata": {},
   "outputs": [
    {
     "data": {
      "text/plain": [
       "dict_keys(['b1c0', 'b1c1', 'b1c2', 'b1c3', 'b1c4', 'b1c5', 'b1c6', 'b1c7', 'b1c9', 'b1c11', 'b1c14', 'b1c15', 'b1c16', 'b1c17', 'b1c18', 'b1c19', 'b1c20', 'b1c21', 'b1c23', 'b1c24', 'b1c25', 'b1c26', 'b1c27', 'b1c28', 'b1c29', 'b1c30', 'b1c31', 'b1c32', 'b1c33', 'b1c34', 'b1c35', 'b1c36', 'b1c37', 'b1c38', 'b1c39', 'b1c40', 'b1c41', 'b1c42', 'b1c43', 'b1c44', 'b1c45', 'b2c0', 'b2c1', 'b2c2', 'b2c3', 'b2c4', 'b2c5', 'b2c6', 'b2c10', 'b2c11', 'b2c12', 'b2c13', 'b2c14', 'b2c17', 'b2c18', 'b2c19', 'b2c20', 'b2c21', 'b2c22', 'b2c23', 'b2c24', 'b2c25', 'b2c26', 'b2c27', 'b2c28', 'b2c29', 'b2c30', 'b2c31', 'b2c32', 'b2c33', 'b2c34', 'b2c35', 'b2c36', 'b2c37', 'b2c38', 'b2c39', 'b2c40', 'b2c41', 'b2c42', 'b2c43', 'b2c44', 'b2c45', 'b2c46', 'b2c47', 'b3c0', 'b3c1', 'b3c3', 'b3c4', 'b3c5', 'b3c6', 'b3c7', 'b3c8', 'b3c9', 'b3c10', 'b3c11', 'b3c12', 'b3c13', 'b3c14', 'b3c15', 'b3c16', 'b3c17', 'b3c18', 'b3c19', 'b3c20', 'b3c21', 'b3c22', 'b3c24', 'b3c25', 'b3c26', 'b3c27', 'b3c28', 'b3c29', 'b3c30', 'b3c31', 'b3c33', 'b3c34', 'b3c35', 'b3c36', 'b3c38', 'b3c39', 'b3c40', 'b3c41', 'b3c44', 'b3c45'])"
      ]
     },
     "execution_count": 9,
     "metadata": {},
     "output_type": "execute_result"
    }
   ],
   "source": [
    "# cells\n",
    "bat_dict.keys()"
   ]
  },
  {
   "cell_type": "markdown",
   "id": "340935b6",
   "metadata": {},
   "source": [
    "### cell level"
   ]
  },
  {
   "cell_type": "code",
   "execution_count": 10,
   "id": "276d7732",
   "metadata": {},
   "outputs": [
    {
     "data": {
      "text/plain": [
       "dict_keys(['cycle_life', 'charge_policy', 'summary', 'cycles'])"
      ]
     },
     "execution_count": 10,
     "metadata": {},
     "output_type": "execute_result"
    }
   ],
   "source": [
    "# info within each cell\n",
    "bat_dict['b1c0'].keys()"
   ]
  },
  {
   "cell_type": "code",
   "execution_count": 11,
   "id": "9ff1e501",
   "metadata": {},
   "outputs": [
    {
     "data": {
      "text/plain": [
       "array([[1852.]])"
      ]
     },
     "execution_count": 11,
     "metadata": {},
     "output_type": "execute_result"
    }
   ],
   "source": [
    "# cycle life\n",
    "bat_dict['b1c0']['cycle_life']"
   ]
  },
  {
   "cell_type": "code",
   "execution_count": 12,
   "id": "7a964c00",
   "metadata": {},
   "outputs": [
    {
     "data": {
      "text/plain": [
       "'3.6C(80%)-3.6C'"
      ]
     },
     "execution_count": 12,
     "metadata": {},
     "output_type": "execute_result"
    }
   ],
   "source": [
    "# charge policy\n",
    "bat_dict['b1c0']['charge_policy']"
   ]
  },
  {
   "cell_type": "code",
   "execution_count": 13,
   "id": "03d9a96b",
   "metadata": {},
   "outputs": [
    {
     "data": {
      "text/plain": [
       "{'IR': array([0.        , 0.01674235, 0.01672431, ..., 0.0181332 , 0.0181233 ,\n",
       "        0.0181211 ]),\n",
       " 'QC': array([0.        , 1.0710422 , 1.0716741 , ..., 0.88449496, 0.88432896,\n",
       "        0.8840425 ]),\n",
       " 'QD': array([0.        , 1.0706892 , 1.0719005 , ..., 0.88462406, 0.88433141,\n",
       "        0.88280821]),\n",
       " 'Tavg': array([ 0.        , 31.87501078, 31.93149033, ..., 32.70054223,\n",
       "        32.99059246, 32.96182749]),\n",
       " 'Tmin': array([ 0.      , 29.56613 , 29.604385, ..., 30.243074, 30.337559,\n",
       "        30.634762]),\n",
       " 'Tmax': array([ 0.      , 35.652016, 35.692978, ..., 36.786781, 36.923153,\n",
       "        36.535774]),\n",
       " 'chargetime': array([ 0.        , 13.34125   , 13.42577667, ..., 17.04515833,\n",
       "        17.15257333, 17.35889667]),\n",
       " 'cycle': array([1.000e+00, 2.000e+00, 3.000e+00, ..., 1.849e+03, 1.850e+03,\n",
       "        1.851e+03])}"
      ]
     },
     "execution_count": 13,
     "metadata": {},
     "output_type": "execute_result"
    }
   ],
   "source": [
    "# summary of the cell\n",
    "bat_dict['b1c0']['summary']"
   ]
  },
  {
   "cell_type": "code",
   "execution_count": 14,
   "id": "c34ad8a9",
   "metadata": {},
   "outputs": [
    {
     "data": {
      "text/plain": [
       "Text(0.5, 1.0, 'Discharge capacity over cycles')"
      ]
     },
     "execution_count": 14,
     "metadata": {},
     "output_type": "execute_result"
    },
    {
     "data": {
      "image/png": "[encoded data removed]",
      "text/plain": [
       "<Figure size 640x480 with 1 Axes>"
      ]
     },
     "metadata": {},
     "output_type": "display_data"
    }
   ],
   "source": [
    "for cname in list(bat_dict.keys()):\n",
    "    plt.plot(bat_dict[cname]['summary']['QD'][1:])\n",
    "\n",
    "plt.xlabel(\"Cycle\")\n",
    "plt.ylabel(\"Discharge Capacity\")\n",
    "plt.title(\"Discharge capacity over cycles\")"
   ]
  },
  {
   "cell_type": "code",
   "execution_count": 15,
   "id": "8384f4bd",
   "metadata": {},
   "outputs": [],
   "source": [
    "# cycle-wise info\n",
    "# bat_dict['b1c0']['cycles']"
   ]
  },
  {
   "cell_type": "markdown",
   "id": "f0776708",
   "metadata": {},
   "source": [
    "### cycle level"
   ]
  },
  {
   "cell_type": "code",
   "execution_count": 16,
   "id": "90a7df55",
   "metadata": {},
   "outputs": [
    {
     "data": {
      "text/plain": [
       "dict_keys(['I', 'Qc', 'Qd', 'Qdlin', 'T', 'Tdlin', 'V', 'dQdV', 't'])"
      ]
     },
     "execution_count": 16,
     "metadata": {},
     "output_type": "execute_result"
    }
   ],
   "source": [
    "bat_dict['b1c0']['cycles']['1'].keys()"
   ]
  },
  {
   "cell_type": "markdown",
   "id": "e245da47",
   "metadata": {},
   "source": [
    "## Feature Engineering for cell 1"
   ]
  },
  {
   "cell_type": "markdown",
   "id": "98fc7a20",
   "metadata": {},
   "source": [
    "### Voltage related features"
   ]
  },
  {
   "cell_type": "code",
   "execution_count": 17,
   "id": "c9097699",
   "metadata": {},
   "outputs": [
    {
     "data": {
      "text/plain": [
       "Text(0.5, 1.0, 'dQdV change from cycle to cycle')"
      ]
     },
     "execution_count": 17,
     "metadata": {},
     "output_type": "execute_result"
    },
    {
     "data": {
      "image/png": "[encoded data removed]",
      "text/plain": [
       "<Figure size 640x480 with 1 Axes>"
      ]
     },
     "metadata": {},
     "output_type": "display_data"
    }
   ],
   "source": [
    "plt.plot(np.linspace(3.5, 2.0, num=1000), bat_dict['b1c0']['cycles']['30']['dQdV'])\n",
    "plt.plot(np.linspace(3.5, 2.0, num=1000), bat_dict['b1c0']['cycles']['100']['dQdV'])\n",
    "plt.plot(np.linspace(3.5, 2.0, num=1000), bat_dict['b1c0']['cycles']['150']['dQdV'])\n",
    "plt.plot(np.linspace(3.5, 2.0, num=1000), bat_dict['b1c0']['cycles']['200']['dQdV'])\n",
    "plt.plot(np.linspace(3.5, 2.0, num=1000), bat_dict['b1c0']['cycles']['250']['dQdV'])\n",
    "\n",
    "plt.legend([\"cycle 30\", \"cycle 100\", \"cycle 150\", \"cycle 200\", \"cycle 250\"])\n",
    "plt.xlabel(\"Index\")\n",
    "plt.ylabel(\"dQdV\")\n",
    "plt.title(\"dQdV change from cycle to cycle\")"
   ]
  },
  {
   "cell_type": "markdown",
   "id": "30887a21",
   "metadata": {},
   "source": [
    "#### V1: Intensity decrease of IC peak from cycle I to J"
   ]
  },
  {
   "cell_type": "code",
   "execution_count": 18,
   "id": "f73c1a95",
   "metadata": {},
   "outputs": [],
   "source": [
    "i = \"30\"\n",
    "js = [\"100\", \"150\", \"200\", \"250\"]\n",
    "Vs = np.linspace(3.5, 2.0, num=1000)"
   ]
  },
  {
   "cell_type": "code",
   "execution_count": 19,
   "id": "9a559071",
   "metadata": {},
   "outputs": [
    {
     "name": "stdout",
     "output_type": "stream",
     "text": [
      "0.17018048576559774\n",
      "0.1985535320872014\n",
      "0.2060183604373691\n",
      "0.3029209371388335\n"
     ]
    }
   ],
   "source": [
    "for j in js:\n",
    "    print(min(bat_dict['b1c0']['cycles'][j]['dQdV']) - min(bat_dict['b1c0']['cycles'][i]['dQdV']))"
   ]
  },
  {
   "cell_type": "markdown",
   "id": "b86e5383",
   "metadata": {},
   "source": [
    "#### V2: Voltage shift of IC peak from cycle I to J"
   ]
  },
  {
   "cell_type": "code",
   "execution_count": 20,
   "id": "212f3582",
   "metadata": {},
   "outputs": [
    {
     "name": "stdout",
     "output_type": "stream",
     "text": [
      "0.0\n",
      "0.0\n",
      "0.0015015015015014122\n",
      "-0.0030030030030028243\n"
     ]
    }
   ],
   "source": [
    "for j in js:\n",
    "    print(Vs[np.argmin(bat_dict['b1c0']['cycles'][j]['dQdV'])] - Vs[np.argmin(bat_dict['b1c0']['cycles'][i]['dQdV'])])"
   ]
  },
  {
   "cell_type": "markdown",
   "id": "381d190c",
   "metadata": {},
   "source": [
    "#### V3 ~ V8: $\\Delta Q_{j-i}(V) = Q_j(V) - Q_i(V) $"
   ]
  },
  {
   "cell_type": "markdown",
   "id": "1079f10a",
   "metadata": {},
   "source": [
    "Since the V in (V, Q) for each cycle might not be identical to carry out the substraction, interperlation should be applied to calculate $\\Delta Q$ given the same V. Fortunately, the MIT team had created the feature, Qdlin, which is the linear interpolation of Q as a function of V, for the users. Therefore, we use Qdlin instead of Q to generate V3 to V8."
   ]
  },
  {
   "cell_type": "code",
   "execution_count": 21,
   "id": "a662cffa",
   "metadata": {},
   "outputs": [
    {
     "data": {
      "text/plain": [
       "<matplotlib.legend.Legend at 0x3378f2400>"
      ]
     },
     "execution_count": 21,
     "metadata": {},
     "output_type": "execute_result"
    },
    {
     "data": {
      "image/png": "[encoded data removed]",
      "text/plain": [
       "<Figure size 640x480 with 1 Axes>"
      ]
     },
     "metadata": {},
     "output_type": "display_data"
    }
   ],
   "source": [
    "plt.plot(Vs, bat_dict['b1c0']['cycles']['30']['Qdlin'])\n",
    "plt.plot(Vs, bat_dict['b1c0']['cycles']['100']['Qdlin'])\n",
    "plt.plot(Vs, bat_dict['b1c0']['cycles']['150']['Qdlin'])\n",
    "plt.plot(Vs, bat_dict['b1c0']['cycles']['200']['Qdlin'])\n",
    "plt.plot(Vs, bat_dict['b1c0']['cycles']['250']['Qdlin'])\n",
    "\n",
    "plt.xlabel(\"Voltage (V)\")\n",
    "plt.ylabel(\"Discharge Capacity (Ah)\")\n",
    "plt.title(\"Q(V)\")\n",
    "plt.legend([\"cycle 30\", \"cycle 100\", \"cycle 150\", \"cycle 200\", \"cycle 250\"])"
   ]
  },
  {
   "cell_type": "code",
   "execution_count": 22,
   "id": "8ac0e1f2",
   "metadata": {},
   "outputs": [
    {
     "data": {
      "text/plain": [
       "<matplotlib.legend.Legend at 0x3379e9070>"
      ]
     },
     "execution_count": 22,
     "metadata": {},
     "output_type": "execute_result"
    },
    {
     "data": {
      "image/png": "[encoded data removed]",
      "text/plain": [
       "<Figure size 640x480 with 1 Axes>"
      ]
     },
     "metadata": {},
     "output_type": "display_data"
    }
   ],
   "source": [
    "delta_q_30_100 = bat_dict['b1c0']['cycles']['100']['Qdlin'] - bat_dict['b1c0']['cycles']['30']['Qdlin']\n",
    "delta_q_30_150 = bat_dict['b1c0']['cycles']['150']['Qdlin'] - bat_dict['b1c0']['cycles']['30']['Qdlin']\n",
    "delta_q_30_200 = bat_dict['b1c0']['cycles']['200']['Qdlin'] - bat_dict['b1c0']['cycles']['30']['Qdlin']\n",
    "delta_q_30_250 = bat_dict['b1c0']['cycles']['250']['Qdlin'] - bat_dict['b1c0']['cycles']['30']['Qdlin']\n",
    "\n",
    "plt.plot(Vs, delta_q_30_100)\n",
    "plt.plot(Vs, delta_q_30_150)\n",
    "plt.plot(Vs, delta_q_30_200)\n",
    "plt.plot(Vs, delta_q_30_250)\n",
    "\n",
    "plt.xlabel(\"Voltage (V)\")\n",
    "plt.ylabel(\"Discharge Capacity (Ah)\")\n",
    "plt.title(\"$\\Delta Q_{i-j}(V)$\")\n",
    "plt.legend([\"i=30, j=100\", \"i=30, j=150\", \"i=30, j=200\", \"i=30, j=250\"])"
   ]
  },
  {
   "cell_type": "markdown",
   "id": "0f3a16b4",
   "metadata": {},
   "source": [
    "$min(\\Delta Q_{i-j}(V))$"
   ]
  },
  {
   "cell_type": "code",
   "execution_count": 23,
   "id": "b647a74e",
   "metadata": {},
   "outputs": [
    {
     "name": "stdout",
     "output_type": "stream",
     "text": [
      "V3-1: -0.009733660782309417\n",
      "V3-2: -0.016186514302654165\n",
      "V3-3: -0.01887402355232659\n",
      "V3-4: -0.025827440756881592\n"
     ]
    }
   ],
   "source": [
    "print(f\"V3-1: {min(delta_q_30_100)}\")\n",
    "print(f\"V3-2: {min(delta_q_30_150)}\")\n",
    "print(f\"V3-3: {min(delta_q_30_200)}\")\n",
    "print(f\"V3-4: {min(delta_q_30_250)}\")"
   ]
  },
  {
   "cell_type": "markdown",
   "id": "35feed4a",
   "metadata": {},
   "source": [
    "$max(\\Delta Q_{i-j}(V))$"
   ]
  },
  {
   "cell_type": "code",
   "execution_count": 24,
   "id": "99bb449a",
   "metadata": {},
   "outputs": [
    {
     "name": "stdout",
     "output_type": "stream",
     "text": [
      "V4-1: -2.6418282268258304e-06\n",
      "V4-2: -3.1549898733624325e-05\n",
      "V4-3: 2.184491993908978e-05\n",
      "V4-4: 1.5246882421534724e-05\n"
     ]
    }
   ],
   "source": [
    "print(f\"V4-1: {max(delta_q_30_100)}\")\n",
    "print(f\"V4-2: {max(delta_q_30_150)}\")\n",
    "print(f\"V4-3: {max(delta_q_30_200)}\")\n",
    "print(f\"V4-4: {max(delta_q_30_250)}\")"
   ]
  },
  {
   "cell_type": "markdown",
   "id": "cc59c41a",
   "metadata": {},
   "source": [
    "$mean(\\Delta Q_{i-j}(V))$"
   ]
  },
  {
   "cell_type": "code",
   "execution_count": 25,
   "id": "631d1cdb",
   "metadata": {},
   "outputs": [
    {
     "name": "stdout",
     "output_type": "stream",
     "text": [
      "V5-1: -0.004113741476160885\n",
      "V5-2: -0.007625862056934693\n",
      "V5-3: -0.009428348953127023\n",
      "V5-4: -0.01331970446705179\n"
     ]
    }
   ],
   "source": [
    "print(f\"V5-1: {np.mean(delta_q_30_100)}\")\n",
    "print(f\"V5-2: {np.mean(delta_q_30_150)}\")\n",
    "print(f\"V5-3: {np.mean(delta_q_30_200)}\")\n",
    "print(f\"V5-4: {np.mean(delta_q_30_250)}\")"
   ]
  },
  {
   "cell_type": "markdown",
   "id": "339243e3",
   "metadata": {},
   "source": [
    "$Var(\\Delta Q_{i-j}(V))$"
   ]
  },
  {
   "cell_type": "code",
   "execution_count": 26,
   "id": "db702073",
   "metadata": {},
   "outputs": [
    {
     "name": "stdout",
     "output_type": "stream",
     "text": [
      "V6-1: 1.0016874970398867e-05\n",
      "V6-2: 2.6645119065613366e-05\n",
      "V6-3: 3.4625761423173076e-05\n",
      "V6-4: 6.843214565411747e-05\n"
     ]
    }
   ],
   "source": [
    "print(f\"V6-1: {np.var(delta_q_30_100)}\")\n",
    "print(f\"V6-2: {np.var(delta_q_30_150)}\")\n",
    "print(f\"V6-3: {np.var(delta_q_30_200)}\")\n",
    "print(f\"V6-4: {np.var(delta_q_30_250)}\")"
   ]
  },
  {
   "cell_type": "markdown",
   "id": "75914f0c",
   "metadata": {},
   "source": [
    "Skewness of $\\Delta Q_{i-j}(V)$"
   ]
  },
  {
   "cell_type": "code",
   "execution_count": 27,
   "id": "c1cab28e",
   "metadata": {},
   "outputs": [
    {
     "name": "stdout",
     "output_type": "stream",
     "text": [
      "V7-1: -0.3230140005732776\n",
      "V7-2: -0.026485817909104908\n",
      "V7-3: 0.28660745510341523\n",
      "V7-4: 0.3263497849955203\n"
     ]
    }
   ],
   "source": [
    "print(f\"V7-1: {skew(delta_q_30_100)}\")\n",
    "print(f\"V7-2: {skew(delta_q_30_150)}\")\n",
    "print(f\"V7-3: {skew(delta_q_30_200)}\")\n",
    "print(f\"V7-4: {skew(delta_q_30_250)}\")"
   ]
  },
  {
   "cell_type": "markdown",
   "id": "7640cc77",
   "metadata": {},
   "source": [
    "Kurtosis of $\\Delta Q_{i-j}(V)$"
   ]
  },
  {
   "cell_type": "code",
   "execution_count": 28,
   "id": "ed499c80",
   "metadata": {},
   "outputs": [
    {
     "name": "stdout",
     "output_type": "stream",
     "text": [
      "V8-1: -1.25028880036586\n",
      "V8-2: -1.1847641306494776\n",
      "V8-3: -0.9575035368626827\n",
      "V8-4: -0.9917334064824619\n"
     ]
    }
   ],
   "source": [
    "print(f\"V8-1: {kurtosis(delta_q_30_100)}\")\n",
    "print(f\"V8-2: {kurtosis(delta_q_30_150)}\")\n",
    "print(f\"V8-3: {kurtosis(delta_q_30_200)}\")\n",
    "print(f\"V8-4: {kurtosis(delta_q_30_250)}\")"
   ]
  },
  {
   "cell_type": "markdown",
   "id": "afecc4e7",
   "metadata": {},
   "source": [
    "### Capacity related features"
   ]
  },
  {
   "cell_type": "markdown",
   "id": "f33bad66",
   "metadata": {},
   "source": [
    "$C_{k} = p_{1}*k + p_{2}$"
   ]
  },
  {
   "cell_type": "code",
   "execution_count": 29,
   "id": "d0e47bc3",
   "metadata": {},
   "outputs": [],
   "source": [
    "# define the function\n",
    "def linear_func(k, p1, p2):\n",
    "    return p1 * k + p2"
   ]
  },
  {
   "cell_type": "markdown",
   "id": "ad28319c",
   "metadata": {},
   "source": [
    "$C_{k} = p_{3}*\\sqrt{k} + p_{4}$"
   ]
  },
  {
   "cell_type": "code",
   "execution_count": 30,
   "id": "95139e32",
   "metadata": {},
   "outputs": [],
   "source": [
    "# define the function\n",
    "def sqrt_model(k, p3, p4):\n",
    "    return p3 * np.sqrt(k) + p4"
   ]
  },
  {
   "cell_type": "markdown",
   "id": "a532318a",
   "metadata": {},
   "source": [
    "$C_{k} = p_{5}*p_{6}^k + p_{7}$"
   ]
  },
  {
   "cell_type": "code",
   "execution_count": 31,
   "id": "c97a910c",
   "metadata": {},
   "outputs": [],
   "source": [
    "# define the function\n",
    "def exp_model(k, p5, p6, p7):\n",
    "    return p5 * (p6 ** k) + p7"
   ]
  },
  {
   "cell_type": "markdown",
   "id": "ecc2db81",
   "metadata": {},
   "source": [
    "Engineer capacity features"
   ]
  },
  {
   "cell_type": "code",
   "execution_count": 32,
   "id": "e8b23dc1",
   "metadata": {},
   "outputs": [],
   "source": [
    "i = 30\n",
    "js = [100, 150, 200, 250]"
   ]
  },
  {
   "cell_type": "code",
   "execution_count": 33,
   "id": "80666ccc",
   "metadata": {},
   "outputs": [
    {
     "name": "stdout",
     "output_type": "stream",
     "text": [
      "From cycle 30 to cycle 100...\n",
      "p1: -1.3356199364489285e-05, p2: 1.07717997816917\n",
      "p3: -0.00020478394274463504, p4: 1.077941032543745\n",
      "p5: -9.131286288941294e-05, p6: 1.0259455865549965, p7: 1.0768637559772993\n",
      "\n",
      "From cycle 30 to cycle 150...\n",
      "p1: -2.3785342920801256e-05, p2: 1.0778448319064144\n",
      "p3: -0.00041671401425094536, p4: 1.0795753159209374\n",
      "p5: -0.00015467651395222555, p6: 1.0208623609607383, p7: 1.0769749031856548\n",
      "\n",
      "From cycle 30 to cycle 200...\n",
      "p1: -4.010082345518029e-05, p2: 1.0791175891834284\n",
      "p3: -0.0007784373754389967, p4: 1.0826357879738757\n",
      "p5: -0.0004125240905079732, p6: 1.0150466245754228, p7: 1.0774812942467225\n",
      "\n",
      "From cycle 30 to cycle 250...\n",
      "p1: -3.649209431782358e-05, p2: 1.0787911352859432\n",
      "p3: -0.0007920265894368576, p4: 1.0827720058616315\n",
      "p5: -0.013948834084194834, p6: 1.0019773566638202, p7: 1.0922213297627286\n",
      "\n"
     ]
    }
   ],
   "source": [
    "for j in js:\n",
    "    print(f\"From cycle {i} to cycle {j}...\")\n",
    "    \n",
    "    # data\n",
    "    k = np.linspace(i, j, num=j-i+1)\n",
    "    c_k = bat_dict['b1c0']['summary']['QD'][i:j+1]\n",
    "    \n",
    "    # p1, p2\n",
    "    popt, _ = curve_fit(linear_func, k, c_k)\n",
    "\n",
    "    p1, p2 = popt\n",
    "    print(f\"p1: {p1}, p2: {p2}\")\n",
    "    \n",
    "    # p3, p4\n",
    "    popt, _ = curve_fit(sqrt_model, k, c_k)\n",
    "\n",
    "    p3, p4 = popt\n",
    "    print(f\"p3: {p3}, p4: {p4}\")\n",
    "    \n",
    "    # p5, p6, p7\n",
    "    popt, _ = curve_fit(exp_model, k, c_k, p0=[1, 1.1, 0])  # Initial guess for p5, p6, p7\n",
    "\n",
    "    p5, p6, p7 = popt\n",
    "    print(f\"p5: {p5}, p6: {p6}, p7: {p7}\\n\")"
   ]
  },
  {
   "cell_type": "markdown",
   "id": "f60fc630",
   "metadata": {},
   "source": [
    "### Temperature related features"
   ]
  },
  {
   "cell_type": "code",
   "execution_count": 36,
   "id": "1c8339d6",
   "metadata": {},
   "outputs": [
    {
     "data": {
      "text/plain": [
       "<matplotlib.legend.Legend at 0x34bea9640>"
      ]
     },
     "execution_count": 36,
     "metadata": {},
     "output_type": "execute_result"
    },
    {
     "data": {
      "image/png": "[encoded data removed]",
      "text/plain": [
       "<Figure size 640x480 with 1 Axes>"
      ]
     },
     "metadata": {},
     "output_type": "display_data"
    }
   ],
   "source": [
    "plt.plot(bat_dict['b3c11']['cycles']['30']['Tdlin'])\n",
    "plt.plot(bat_dict['b3c11']['cycles']['100']['Tdlin'])\n",
    "plt.plot(bat_dict['b3c11']['cycles']['150']['Tdlin'])\n",
    "plt.plot(bat_dict['b3c11']['cycles']['200']['Tdlin'])\n",
    "plt.plot(bat_dict['b3c11']['cycles']['250']['Tdlin'])\n",
    "\n",
    "plt.xlabel(\"Index\")\n",
    "plt.ylabel(\"Temperature (c)\")\n",
    "plt.title(\"Temperature during discharge\")\n",
    "plt.legend([\"Cycle 30\", \"Cycle 100\", \"Cycle 150\", \"Cycle 200\", \"Cycle 250\"])"
   ]
  },
  {
   "cell_type": "markdown",
   "id": "8b3280f7",
   "metadata": {},
   "source": [
    "$\\Delta(T_{i-j}) =  \\sigma(T_{j}) - \\sigma(T_{j})$, where $\\sigma \\in$ {mean, max, min}"
   ]
  },
  {
   "cell_type": "markdown",
   "id": "f967ae24",
   "metadata": {},
   "source": [
    "T1: difference of the mean"
   ]
  },
  {
   "cell_type": "code",
   "execution_count": 56,
   "id": "a41ae94a",
   "metadata": {},
   "outputs": [
    {
     "name": "stdout",
     "output_type": "stream",
     "text": [
      "T1-1: -0.010828039757889485\n",
      "T1-2: -0.08538562944305994\n",
      "T1-3: 0.21214632055291816\n",
      "T1-4: -0.0012255471860100897\n"
     ]
    }
   ],
   "source": [
    "print(f\"T1-1: {np.mean(bat_dict['b1c0']['cycles']['100']['Tdlin']) - np.mean(bat_dict['b1c0']['cycles']['30']['Tdlin'])}\")\n",
    "print(f\"T1-2: {np.mean(bat_dict['b1c0']['cycles']['150']['Tdlin']) - np.mean(bat_dict['b1c0']['cycles']['30']['Tdlin'])}\")\n",
    "print(f\"T1-3: {np.mean(bat_dict['b1c0']['cycles']['200']['Tdlin']) - np.mean(bat_dict['b1c0']['cycles']['30']['Tdlin'])}\")\n",
    "print(f\"T1-4: {np.mean(bat_dict['b1c0']['cycles']['250']['Tdlin']) - np.mean(bat_dict['b1c0']['cycles']['30']['Tdlin'])}\")"
   ]
  },
  {
   "cell_type": "markdown",
   "id": "7e9e3b82",
   "metadata": {},
   "source": [
    "T2: difference of the maximum"
   ]
  },
  {
   "cell_type": "code",
   "execution_count": 57,
   "id": "f51f9c8f",
   "metadata": {},
   "outputs": [
    {
     "name": "stdout",
     "output_type": "stream",
     "text": [
      "T2-1: 0.09356854807177939\n",
      "T2-2: 0.03250000454440283\n",
      "T2-3: 0.4224811268065878\n",
      "T2-4: 0.22159860285707822\n"
     ]
    }
   ],
   "source": [
    "print(f\"T2-1: {np.max(bat_dict['b1c0']['cycles']['100']['Tdlin']) - np.max(bat_dict['b1c0']['cycles']['30']['Tdlin'])}\")\n",
    "print(f\"T2-2: {np.max(bat_dict['b1c0']['cycles']['150']['Tdlin']) - np.max(bat_dict['b1c0']['cycles']['30']['Tdlin'])}\")\n",
    "print(f\"T2-3: {np.max(bat_dict['b1c0']['cycles']['200']['Tdlin']) - np.max(bat_dict['b1c0']['cycles']['30']['Tdlin'])}\")\n",
    "print(f\"T2-4: {np.max(bat_dict['b1c0']['cycles']['250']['Tdlin']) - np.max(bat_dict['b1c0']['cycles']['30']['Tdlin'])}\")"
   ]
  },
  {
   "cell_type": "markdown",
   "id": "772827a6",
   "metadata": {},
   "source": [
    "T3: difference of the minimum"
   ]
  },
  {
   "cell_type": "code",
   "execution_count": 58,
   "id": "1994331b",
   "metadata": {},
   "outputs": [
    {
     "name": "stdout",
     "output_type": "stream",
     "text": [
      "T3-1: -0.0865734032504335\n",
      "T3-2: -0.23577641968605434\n",
      "T3-3: 0.010528929416892652\n",
      "T3-4: -0.05253603604502999\n"
     ]
    }
   ],
   "source": [
    "print(f\"T3-1: {np.min(bat_dict['b1c0']['cycles']['100']['Tdlin']) - np.min(bat_dict['b1c0']['cycles']['30']['Tdlin'])}\")\n",
    "print(f\"T3-2: {np.min(bat_dict['b1c0']['cycles']['150']['Tdlin']) - np.min(bat_dict['b1c0']['cycles']['30']['Tdlin'])}\")\n",
    "print(f\"T3-3: {np.min(bat_dict['b1c0']['cycles']['200']['Tdlin']) - np.min(bat_dict['b1c0']['cycles']['30']['Tdlin'])}\")\n",
    "print(f\"T3-4: {np.min(bat_dict['b1c0']['cycles']['250']['Tdlin']) - np.min(bat_dict['b1c0']['cycles']['30']['Tdlin'])}\")"
   ]
  },
  {
   "cell_type": "markdown",
   "id": "8b54ce4b",
   "metadata": {},
   "source": [
    "## Process all cells"
   ]
  },
  {
   "cell_type": "code",
   "execution_count": 195,
   "id": "5d899d36",
   "metadata": {},
   "outputs": [],
   "source": [
    "cols = [\"cell_id\"]\n",
    "for i in range(1, 19):\n",
    "    for j in range(1, 5):\n",
    "        cols.append(f\"feature_{i}-{j}\")\n",
    "cols.append(\"cell_life\")"
   ]
  },
  {
   "cell_type": "code",
   "execution_count": 196,
   "id": "924454e2",
   "metadata": {},
   "outputs": [],
   "source": [
    "df = pd.DataFrame(columns=cols)"
   ]
  },
  {
   "cell_type": "code",
   "execution_count": 197,
   "id": "eaad3cb9",
   "metadata": {},
   "outputs": [],
   "source": [
    "# define the function\n",
    "def linear_func(k, p1, p2):\n",
    "    return p1 * k + p2\n",
    "\n",
    "# define the function\n",
    "def sqrt_model(k, p3, p4):\n",
    "    return p3 * np.sqrt(k) + p4\n",
    "\n",
    "# define the function\n",
    "def exp_model(k, p5, p6, p7):\n",
    "    return p5 * (p6 ** k) + p7"
   ]
  },
  {
   "cell_type": "code",
   "execution_count": 198,
   "id": "fd717e26",
   "metadata": {},
   "outputs": [
    {
     "name": "stderr",
     "output_type": "stream",
     "text": [
      "100%|█████████████████████████████████████████| 124/124 [00:01<00:00, 89.33it/s]\n"
     ]
    }
   ],
   "source": [
    "cell_idx = 0\n",
    "\n",
    "for cell in tqdm(bat_dict.keys()):\n",
    "    # this cell is an outlier since it has very short life\n",
    "    if cell == \"b2c1\":\n",
    "        df.loc[cell_idx] = np.nan\n",
    "        df.loc[cell_idx, \"cell_id\"] = cell\n",
    "        df.loc[cell_idx, \"cell_life\"] = bat_dict[cell]['cycle_life'][0][0]\n",
    "        cell_idx += 1\n",
    "        continue\n",
    "    \n",
    "    # cycle id and cell life\n",
    "    df.loc[cell_idx, \"cell_id\"] = cell\n",
    "    df.loc[cell_idx, \"cell_life\"] = bat_dict[cell]['cycle_life'][0][0]\n",
    "    \n",
    "    # voltage\n",
    "    i = \"30\"\n",
    "    js = [\"100\", \"150\", \"200\", \"250\"]\n",
    "    Vs = np.linspace(3.5, 2.0, num=1000)\n",
    "    \n",
    "    # V1, V2\n",
    "    for j in js:\n",
    "        df.loc[cell_idx, f\"feature_1-{js.index(j)+1}\"] = min(bat_dict[cell]['cycles'][j]['dQdV']) - min(bat_dict[cell]['cycles'][i]['dQdV'])\n",
    "        df.loc[cell_idx, f\"feature_2-{js.index(j)+1}\"] = Vs[np.argmin(bat_dict[cell]['cycles'][j]['dQdV'])] - Vs[np.argmin(bat_dict[cell]['cycles'][i]['dQdV'])]\n",
    "        \n",
    "    # V3 ~ V8\n",
    "    delta_q_30_100 = bat_dict[cell]['cycles']['100']['Qdlin'] - bat_dict[cell]['cycles']['30']['Qdlin']\n",
    "    delta_q_30_150 = bat_dict[cell]['cycles']['150']['Qdlin'] - bat_dict[cell]['cycles']['30']['Qdlin']\n",
    "    delta_q_30_200 = bat_dict[cell]['cycles']['200']['Qdlin'] - bat_dict[cell]['cycles']['30']['Qdlin']\n",
    "    delta_q_30_250 = bat_dict[cell]['cycles']['250']['Qdlin'] - bat_dict[cell]['cycles']['30']['Qdlin']\n",
    "    \n",
    "    df.loc[cell_idx, f\"feature_3-1\"] = min(delta_q_30_100)\n",
    "    df.loc[cell_idx, f\"feature_3-2\"] = min(delta_q_30_150)\n",
    "    df.loc[cell_idx, f\"feature_3-3\"] = min(delta_q_30_200)\n",
    "    df.loc[cell_idx, f\"feature_3-4\"] = min(delta_q_30_250)\n",
    "    \n",
    "    df.loc[cell_idx, f\"feature_4-1\"] = max(delta_q_30_100)\n",
    "    df.loc[cell_idx, f\"feature_4-2\"] = max(delta_q_30_150)\n",
    "    df.loc[cell_idx, f\"feature_4-3\"] = max(delta_q_30_200)\n",
    "    df.loc[cell_idx, f\"feature_4-4\"] = max(delta_q_30_250)\n",
    "    \n",
    "    df.loc[cell_idx, f\"feature_5-1\"] = np.mean(delta_q_30_100)\n",
    "    df.loc[cell_idx, f\"feature_5-2\"] = np.mean(delta_q_30_150)\n",
    "    df.loc[cell_idx, f\"feature_5-3\"] = np.mean(delta_q_30_200)\n",
    "    df.loc[cell_idx, f\"feature_5-4\"] = np.mean(delta_q_30_250)\n",
    "    \n",
    "    df.loc[cell_idx, f\"feature_6-1\"] = np.var(delta_q_30_100)\n",
    "    df.loc[cell_idx, f\"feature_6-2\"] = np.var(delta_q_30_150)\n",
    "    df.loc[cell_idx, f\"feature_6-3\"] = np.var(delta_q_30_200)\n",
    "    df.loc[cell_idx, f\"feature_6-4\"] = np.var(delta_q_30_250)\n",
    "    \n",
    "    df.loc[cell_idx, f\"feature_7-1\"] = skew(delta_q_30_100)\n",
    "    df.loc[cell_idx, f\"feature_7-2\"] = skew(delta_q_30_150)\n",
    "    df.loc[cell_idx, f\"feature_7-3\"] = skew(delta_q_30_200)\n",
    "    df.loc[cell_idx, f\"feature_7-4\"] = skew(delta_q_30_250)\n",
    "\n",
    "    df.loc[cell_idx, f\"feature_8-1\"] = kurtosis(delta_q_30_100)\n",
    "    df.loc[cell_idx, f\"feature_8-2\"] = kurtosis(delta_q_30_150)\n",
    "    df.loc[cell_idx, f\"feature_8-3\"] = kurtosis(delta_q_30_200)\n",
    "    df.loc[cell_idx, f\"feature_8-4\"] = kurtosis(delta_q_30_250)\n",
    "    \n",
    "    # capacity\n",
    "    i = 30\n",
    "    js = [100, 150, 200, 250]\n",
    "\n",
    "    for j in js:\n",
    "        # data\n",
    "        k = np.linspace(i, j, num=j-i+1)\n",
    "        c_k = bat_dict[cell]['summary']['QD'][i:j+1]\n",
    "\n",
    "        # p1, p2\n",
    "        popt, _ = curve_fit(linear_func, k, c_k)\n",
    "        p1, p2 = popt\n",
    "\n",
    "        # p3, p4\n",
    "        popt, _ = curve_fit(sqrt_model, k, c_k)\n",
    "        p3, p4 = popt\n",
    "\n",
    "        # p5, p6, p7\n",
    "        popt, _ = curve_fit(exp_model, k, c_k, p0=[1, 1.1, 0], maxfev = 6000)  # Initial guess for p5, p6, p7\n",
    "        p5, p6, p7 = popt\n",
    "        \n",
    "        # store\n",
    "        df.loc[cell_idx, f\"feature_9-{js.index(j)+1}\"] = p1\n",
    "        df.loc[cell_idx, f\"feature_10-{js.index(j)+1}\"] = p2\n",
    "        df.loc[cell_idx, f\"feature_11-{js.index(j)+1}\"] = p3\n",
    "        df.loc[cell_idx, f\"feature_12-{js.index(j)+1}\"] = p4\n",
    "        df.loc[cell_idx, f\"feature_13-{js.index(j)+1}\"] = p5\n",
    "        df.loc[cell_idx, f\"feature_14-{js.index(j)+1}\"] = p6\n",
    "        df.loc[cell_idx, f\"feature_15-{js.index(j)+1}\"] = p7\n",
    "        \n",
    "    # temperature\n",
    "    df.loc[cell_idx, f\"feature_16-1\"] = np.mean(bat_dict[cell]['cycles']['100']['Tdlin']) - np.mean(bat_dict[cell]['cycles']['30']['Tdlin'])\n",
    "    df.loc[cell_idx, f\"feature_16-2\"] = np.mean(bat_dict[cell]['cycles']['150']['Tdlin']) - np.mean(bat_dict[cell]['cycles']['30']['Tdlin'])\n",
    "    df.loc[cell_idx, f\"feature_16-3\"] = np.mean(bat_dict[cell]['cycles']['200']['Tdlin']) - np.mean(bat_dict[cell]['cycles']['30']['Tdlin'])\n",
    "    df.loc[cell_idx, f\"feature_16-4\"] = np.mean(bat_dict[cell]['cycles']['250']['Tdlin']) - np.mean(bat_dict[cell]['cycles']['30']['Tdlin'])\n",
    "    \n",
    "    df.loc[cell_idx, f\"feature_17-1\"] = np.max(bat_dict[cell]['cycles']['100']['Tdlin']) - np.max(bat_dict[cell]['cycles']['30']['Tdlin'])\n",
    "    df.loc[cell_idx, f\"feature_17-2\"] = np.max(bat_dict[cell]['cycles']['150']['Tdlin']) - np.max(bat_dict[cell]['cycles']['30']['Tdlin'])\n",
    "    df.loc[cell_idx, f\"feature_17-3\"] = np.max(bat_dict[cell]['cycles']['200']['Tdlin']) - np.max(bat_dict[cell]['cycles']['30']['Tdlin'])\n",
    "    df.loc[cell_idx, f\"feature_17-4\"] = np.max(bat_dict[cell]['cycles']['250']['Tdlin']) - np.max(bat_dict[cell]['cycles']['30']['Tdlin'])\n",
    "    \n",
    "    df.loc[cell_idx, f\"feature_18-1\"] = np.min(bat_dict[cell]['cycles']['100']['Tdlin']) - np.min(bat_dict[cell]['cycles']['30']['Tdlin'])\n",
    "    df.loc[cell_idx, f\"feature_18-2\"] = np.min(bat_dict[cell]['cycles']['150']['Tdlin']) - np.min(bat_dict[cell]['cycles']['30']['Tdlin'])\n",
    "    df.loc[cell_idx, f\"feature_18-3\"] = np.min(bat_dict[cell]['cycles']['200']['Tdlin']) - np.min(bat_dict[cell]['cycles']['30']['Tdlin'])\n",
    "    df.loc[cell_idx, f\"feature_18-4\"] = np.min(bat_dict[cell]['cycles']['250']['Tdlin']) - np.min(bat_dict[cell]['cycles']['30']['Tdlin'])\n",
    "    \n",
    "    cell_idx += 1"
   ]
  },
  {
   "cell_type": "code",
   "execution_count": 199,
   "id": "f9cffcc2",
   "metadata": {},
   "outputs": [
    {
     "data": {
      "text/html": [
       "<div>\n",
       "<style scoped>\n",
       "    .dataframe tbody tr th:only-of-type {\n",
       "        vertical-align: middle;\n",
       "    }\n",
       "\n",
       "    .dataframe tbody tr th {\n",
       "        vertical-align: top;\n",
       "    }\n",
       "\n",
       "    .dataframe thead th {\n",
       "        text-align: right;\n",
       "    }\n",
       "</style>\n",
       "<table border=\"1\" class=\"dataframe\">\n",
       "  <thead>\n",
       "    <tr style=\"text-align: right;\">\n",
       "      <th></th>\n",
       "      <th>cell_id</th>\n",
       "      <th>feature_1-1</th>\n",
       "      <th>feature_1-2</th>\n",
       "      <th>feature_1-3</th>\n",
       "      <th>feature_1-4</th>\n",
       "      <th>feature_2-1</th>\n",
       "      <th>feature_2-2</th>\n",
       "      <th>feature_2-3</th>\n",
       "      <th>feature_2-4</th>\n",
       "      <th>feature_3-1</th>\n",
       "      <th>...</th>\n",
       "      <th>feature_16-4</th>\n",
       "      <th>feature_17-1</th>\n",
       "      <th>feature_17-2</th>\n",
       "      <th>feature_17-3</th>\n",
       "      <th>feature_17-4</th>\n",
       "      <th>feature_18-1</th>\n",
       "      <th>feature_18-2</th>\n",
       "      <th>feature_18-3</th>\n",
       "      <th>feature_18-4</th>\n",
       "      <th>cell_life</th>\n",
       "    </tr>\n",
       "  </thead>\n",
       "  <tbody>\n",
       "    <tr>\n",
       "      <th>0</th>\n",
       "      <td>b1c0</td>\n",
       "      <td>0.17018</td>\n",
       "      <td>0.198554</td>\n",
       "      <td>0.206018</td>\n",
       "      <td>0.302921</td>\n",
       "      <td>0.0</td>\n",
       "      <td>0.0</td>\n",
       "      <td>0.001502</td>\n",
       "      <td>-0.003003</td>\n",
       "      <td>-0.009734</td>\n",
       "      <td>...</td>\n",
       "      <td>-0.001226</td>\n",
       "      <td>0.093569</td>\n",
       "      <td>0.0325</td>\n",
       "      <td>0.422481</td>\n",
       "      <td>0.221599</td>\n",
       "      <td>-0.086573</td>\n",
       "      <td>-0.235776</td>\n",
       "      <td>0.010529</td>\n",
       "      <td>-0.052536</td>\n",
       "      <td>1852.0</td>\n",
       "    </tr>\n",
       "    <tr>\n",
       "      <th>1</th>\n",
       "      <td>b1c1</td>\n",
       "      <td>-0.318951</td>\n",
       "      <td>0.073244</td>\n",
       "      <td>-0.107269</td>\n",
       "      <td>-0.214021</td>\n",
       "      <td>0.0</td>\n",
       "      <td>0.003003</td>\n",
       "      <td>-0.003003</td>\n",
       "      <td>0.003003</td>\n",
       "      <td>-0.008012</td>\n",
       "      <td>...</td>\n",
       "      <td>0.294094</td>\n",
       "      <td>-0.015469</td>\n",
       "      <td>-0.016736</td>\n",
       "      <td>0.105243</td>\n",
       "      <td>0.368883</td>\n",
       "      <td>0.011073</td>\n",
       "      <td>-0.022966</td>\n",
       "      <td>0.206999</td>\n",
       "      <td>0.27144</td>\n",
       "      <td>2160.0</td>\n",
       "    </tr>\n",
       "    <tr>\n",
       "      <th>2</th>\n",
       "      <td>b1c2</td>\n",
       "      <td>-13.400116</td>\n",
       "      <td>0.064212</td>\n",
       "      <td>0.011109</td>\n",
       "      <td>0.056847</td>\n",
       "      <td>-1.153153</td>\n",
       "      <td>0.0</td>\n",
       "      <td>0.0</td>\n",
       "      <td>0.003003</td>\n",
       "      <td>-0.007951</td>\n",
       "      <td>...</td>\n",
       "      <td>0.374237</td>\n",
       "      <td>0.083732</td>\n",
       "      <td>-0.018544</td>\n",
       "      <td>0.209013</td>\n",
       "      <td>0.518433</td>\n",
       "      <td>0.007007</td>\n",
       "      <td>-0.081015</td>\n",
       "      <td>0.177867</td>\n",
       "      <td>0.213808</td>\n",
       "      <td>2237.0</td>\n",
       "    </tr>\n",
       "    <tr>\n",
       "      <th>3</th>\n",
       "      <td>b1c3</td>\n",
       "      <td>-0.04294</td>\n",
       "      <td>0.005751</td>\n",
       "      <td>0.01057</td>\n",
       "      <td>0.113304</td>\n",
       "      <td>-0.006006</td>\n",
       "      <td>0.0</td>\n",
       "      <td>-0.003003</td>\n",
       "      <td>0.001502</td>\n",
       "      <td>-0.013748</td>\n",
       "      <td>...</td>\n",
       "      <td>-0.197973</td>\n",
       "      <td>-0.191059</td>\n",
       "      <td>-0.22003</td>\n",
       "      <td>-0.208227</td>\n",
       "      <td>-0.270601</td>\n",
       "      <td>0.0872</td>\n",
       "      <td>-0.055179</td>\n",
       "      <td>0.007637</td>\n",
       "      <td>-0.041739</td>\n",
       "      <td>1434.0</td>\n",
       "    </tr>\n",
       "    <tr>\n",
       "      <th>4</th>\n",
       "      <td>b1c4</td>\n",
       "      <td>0.040659</td>\n",
       "      <td>0.123495</td>\n",
       "      <td>-0.049134</td>\n",
       "      <td>0.095473</td>\n",
       "      <td>0.003003</td>\n",
       "      <td>0.003003</td>\n",
       "      <td>-0.001502</td>\n",
       "      <td>0.001502</td>\n",
       "      <td>-0.011847</td>\n",
       "      <td>...</td>\n",
       "      <td>-0.050792</td>\n",
       "      <td>0.075951</td>\n",
       "      <td>-0.07816</td>\n",
       "      <td>0.044478</td>\n",
       "      <td>0.00548</td>\n",
       "      <td>0.024354</td>\n",
       "      <td>-0.101195</td>\n",
       "      <td>0.042406</td>\n",
       "      <td>-0.065277</td>\n",
       "      <td>1709.0</td>\n",
       "    </tr>\n",
       "    <tr>\n",
       "      <th>...</th>\n",
       "      <td>...</td>\n",
       "      <td>...</td>\n",
       "      <td>...</td>\n",
       "      <td>...</td>\n",
       "      <td>...</td>\n",
       "      <td>...</td>\n",
       "      <td>...</td>\n",
       "      <td>...</td>\n",
       "      <td>...</td>\n",
       "      <td>...</td>\n",
       "      <td>...</td>\n",
       "      <td>...</td>\n",
       "      <td>...</td>\n",
       "      <td>...</td>\n",
       "      <td>...</td>\n",
       "      <td>...</td>\n",
       "      <td>...</td>\n",
       "      <td>...</td>\n",
       "      <td>...</td>\n",
       "      <td>...</td>\n",
       "      <td>...</td>\n",
       "    </tr>\n",
       "    <tr>\n",
       "      <th>119</th>\n",
       "      <td>b3c39</td>\n",
       "      <td>-0.045965</td>\n",
       "      <td>0.160471</td>\n",
       "      <td>0.265957</td>\n",
       "      <td>0.260906</td>\n",
       "      <td>-0.003003</td>\n",
       "      <td>0.001502</td>\n",
       "      <td>0.004505</td>\n",
       "      <td>0.003003</td>\n",
       "      <td>-0.016426</td>\n",
       "      <td>...</td>\n",
       "      <td>0.933472</td>\n",
       "      <td>0.175283</td>\n",
       "      <td>0.532571</td>\n",
       "      <td>0.844672</td>\n",
       "      <td>1.102569</td>\n",
       "      <td>0.144779</td>\n",
       "      <td>0.192649</td>\n",
       "      <td>0.728113</td>\n",
       "      <td>0.978361</td>\n",
       "      <td>1156.0</td>\n",
       "    </tr>\n",
       "    <tr>\n",
       "      <th>120</th>\n",
       "      <td>b3c40</td>\n",
       "      <td>0.013568</td>\n",
       "      <td>0.070067</td>\n",
       "      <td>0.225559</td>\n",
       "      <td>0.342754</td>\n",
       "      <td>-0.003003</td>\n",
       "      <td>-0.001502</td>\n",
       "      <td>-0.001502</td>\n",
       "      <td>-0.001502</td>\n",
       "      <td>-0.020104</td>\n",
       "      <td>...</td>\n",
       "      <td>1.308985</td>\n",
       "      <td>0.633929</td>\n",
       "      <td>1.129286</td>\n",
       "      <td>1.379156</td>\n",
       "      <td>1.910471</td>\n",
       "      <td>-0.216712</td>\n",
       "      <td>0.356772</td>\n",
       "      <td>0.485147</td>\n",
       "      <td>0.886457</td>\n",
       "      <td>796.0</td>\n",
       "    </tr>\n",
       "    <tr>\n",
       "      <th>121</th>\n",
       "      <td>b3c41</td>\n",
       "      <td>0.141452</td>\n",
       "      <td>0.241174</td>\n",
       "      <td>0.339269</td>\n",
       "      <td>0.374774</td>\n",
       "      <td>-0.001502</td>\n",
       "      <td>0.0</td>\n",
       "      <td>-0.003003</td>\n",
       "      <td>-0.003003</td>\n",
       "      <td>-0.020988</td>\n",
       "      <td>...</td>\n",
       "      <td>0.849739</td>\n",
       "      <td>0.181009</td>\n",
       "      <td>0.748168</td>\n",
       "      <td>0.518888</td>\n",
       "      <td>1.217419</td>\n",
       "      <td>0.010371</td>\n",
       "      <td>0.458513</td>\n",
       "      <td>0.214895</td>\n",
       "      <td>0.854229</td>\n",
       "      <td>786.0</td>\n",
       "    </tr>\n",
       "    <tr>\n",
       "      <th>122</th>\n",
       "      <td>b3c44</td>\n",
       "      <td>0.116643</td>\n",
       "      <td>0.184333</td>\n",
       "      <td>0.272894</td>\n",
       "      <td>0.352578</td>\n",
       "      <td>0.001502</td>\n",
       "      <td>0.0</td>\n",
       "      <td>0.0</td>\n",
       "      <td>0.001502</td>\n",
       "      <td>-0.025134</td>\n",
       "      <td>...</td>\n",
       "      <td>0.816568</td>\n",
       "      <td>0.079039</td>\n",
       "      <td>0.731395</td>\n",
       "      <td>0.877101</td>\n",
       "      <td>1.219103</td>\n",
       "      <td>-0.235224</td>\n",
       "      <td>0.355573</td>\n",
       "      <td>0.501139</td>\n",
       "      <td>0.827045</td>\n",
       "      <td>940.0</td>\n",
       "    </tr>\n",
       "    <tr>\n",
       "      <th>123</th>\n",
       "      <td>b3c45</td>\n",
       "      <td>0.214897</td>\n",
       "      <td>0.21028</td>\n",
       "      <td>0.333673</td>\n",
       "      <td>0.355477</td>\n",
       "      <td>0.001502</td>\n",
       "      <td>-0.003003</td>\n",
       "      <td>0.003003</td>\n",
       "      <td>0.001502</td>\n",
       "      <td>-0.01728</td>\n",
       "      <td>...</td>\n",
       "      <td>0.83292</td>\n",
       "      <td>-0.211933</td>\n",
       "      <td>0.435239</td>\n",
       "      <td>0.532797</td>\n",
       "      <td>0.863727</td>\n",
       "      <td>-0.126598</td>\n",
       "      <td>0.373683</td>\n",
       "      <td>0.636724</td>\n",
       "      <td>0.950692</td>\n",
       "      <td>1801.0</td>\n",
       "    </tr>\n",
       "  </tbody>\n",
       "</table>\n",
       "<p>124 rows × 74 columns</p>\n",
       "</div>"
      ],
      "text/plain": [
       "    cell_id feature_1-1 feature_1-2 feature_1-3 feature_1-4 feature_2-1  \\\n",
       "0      b1c0     0.17018    0.198554    0.206018    0.302921         0.0   \n",
       "1      b1c1   -0.318951    0.073244   -0.107269   -0.214021         0.0   \n",
       "2      b1c2  -13.400116    0.064212    0.011109    0.056847   -1.153153   \n",
       "3      b1c3    -0.04294    0.005751     0.01057    0.113304   -0.006006   \n",
       "4      b1c4    0.040659    0.123495   -0.049134    0.095473    0.003003   \n",
       "..      ...         ...         ...         ...         ...         ...   \n",
       "119   b3c39   -0.045965    0.160471    0.265957    0.260906   -0.003003   \n",
       "120   b3c40    0.013568    0.070067    0.225559    0.342754   -0.003003   \n",
       "121   b3c41    0.141452    0.241174    0.339269    0.374774   -0.001502   \n",
       "122   b3c44    0.116643    0.184333    0.272894    0.352578    0.001502   \n",
       "123   b3c45    0.214897     0.21028    0.333673    0.355477    0.001502   \n",
       "\n",
       "    feature_2-2 feature_2-3 feature_2-4 feature_3-1  ... feature_16-4  \\\n",
       "0           0.0    0.001502   -0.003003   -0.009734  ...    -0.001226   \n",
       "1      0.003003   -0.003003    0.003003   -0.008012  ...     0.294094   \n",
       "2           0.0         0.0    0.003003   -0.007951  ...     0.374237   \n",
       "3           0.0   -0.003003    0.001502   -0.013748  ...    -0.197973   \n",
       "4      0.003003   -0.001502    0.001502   -0.011847  ...    -0.050792   \n",
       "..          ...         ...         ...         ...  ...          ...   \n",
       "119    0.001502    0.004505    0.003003   -0.016426  ...     0.933472   \n",
       "120   -0.001502   -0.001502   -0.001502   -0.020104  ...     1.308985   \n",
       "121         0.0   -0.003003   -0.003003   -0.020988  ...     0.849739   \n",
       "122         0.0         0.0    0.001502   -0.025134  ...     0.816568   \n",
       "123   -0.003003    0.003003    0.001502    -0.01728  ...      0.83292   \n",
       "\n",
       "    feature_17-1 feature_17-2 feature_17-3 feature_17-4 feature_18-1  \\\n",
       "0       0.093569       0.0325     0.422481     0.221599    -0.086573   \n",
       "1      -0.015469    -0.016736     0.105243     0.368883     0.011073   \n",
       "2       0.083732    -0.018544     0.209013     0.518433     0.007007   \n",
       "3      -0.191059     -0.22003    -0.208227    -0.270601       0.0872   \n",
       "4       0.075951     -0.07816     0.044478      0.00548     0.024354   \n",
       "..           ...          ...          ...          ...          ...   \n",
       "119     0.175283     0.532571     0.844672     1.102569     0.144779   \n",
       "120     0.633929     1.129286     1.379156     1.910471    -0.216712   \n",
       "121     0.181009     0.748168     0.518888     1.217419     0.010371   \n",
       "122     0.079039     0.731395     0.877101     1.219103    -0.235224   \n",
       "123    -0.211933     0.435239     0.532797     0.863727    -0.126598   \n",
       "\n",
       "    feature_18-2 feature_18-3 feature_18-4 cell_life  \n",
       "0      -0.235776     0.010529    -0.052536    1852.0  \n",
       "1      -0.022966     0.206999      0.27144    2160.0  \n",
       "2      -0.081015     0.177867     0.213808    2237.0  \n",
       "3      -0.055179     0.007637    -0.041739    1434.0  \n",
       "4      -0.101195     0.042406    -0.065277    1709.0  \n",
       "..           ...          ...          ...       ...  \n",
       "119     0.192649     0.728113     0.978361    1156.0  \n",
       "120     0.356772     0.485147     0.886457     796.0  \n",
       "121     0.458513     0.214895     0.854229     786.0  \n",
       "122     0.355573     0.501139     0.827045     940.0  \n",
       "123     0.373683     0.636724     0.950692    1801.0  \n",
       "\n",
       "[124 rows x 74 columns]"
      ]
     },
     "execution_count": 199,
     "metadata": {},
     "output_type": "execute_result"
    }
   ],
   "source": [
    "df"
   ]
  },
  {
   "cell_type": "markdown",
   "id": "6c314286",
   "metadata": {},
   "source": [
    "split into train, prim test, secondary test"
   ]
  },
  {
   "cell_type": "code",
   "execution_count": 200,
   "id": "3e5bce00",
   "metadata": {},
   "outputs": [],
   "source": [
    "prim_test_ind = np.hstack((np.arange(0,(numBat1+numBat2),2),83))\n",
    "train_ind = np.arange(1,(numBat1+numBat2-1),2)\n",
    "sec_test_ind = np.arange(numBat-numBat3,numBat)\n",
    "\n",
    "train_df = df.iloc[train_ind, :]\n",
    "prim_test_df = df.iloc[prim_test_ind, :]\n",
    "sec_test_df = df.iloc[sec_test_ind, :]"
   ]
  },
  {
   "cell_type": "markdown",
   "id": "999749f5",
   "metadata": {},
   "source": [
    "## Export as .csv"
   ]
  },
  {
   "cell_type": "code",
   "execution_count": 203,
   "id": "a445a2cf",
   "metadata": {},
   "outputs": [],
   "source": [
    "# df.to_csv(\"all_data.csv\", index=False)\n",
    "\n",
    "# train_df.to_csv(\"training.csv\", index=False)\n",
    "# prim_test_df.to_csv(\"prim_test.csv\", index=False)\n",
    "# sec_test_df.to_csv(\"sec_test.csv\", index=False)"
   ]
  }
 ],
 "metadata": {
  "kernelspec": {
   "display_name": "Python 3 (ipykernel)",
   "language": "python",
   "name": "python3"
  },
  "language_info": {
   "codemirror_mode": {
    "name": "ipython",
    "version": 3
   },
   "file_extension": ".py",
   "mimetype": "text/x-python",
   "name": "python",
   "nbconvert_exporter": "python",
   "pygments_lexer": "ipython3",
   "version": "3.9.13"
  }
 },
 "nbformat": 4,
 "nbformat_minor": 5
}
